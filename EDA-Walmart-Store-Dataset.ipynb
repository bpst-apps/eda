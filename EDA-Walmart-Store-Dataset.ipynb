{
 "cells": [
  {
   "cell_type": "markdown",
   "id": "f7b81f2a",
   "metadata": {},
   "source": [
    "# EDA - Walmark Store Sale Dataset"
   ]
  },
  {
   "cell_type": "markdown",
   "id": "11b03513",
   "metadata": {},
   "source": [
    "### Problem Statement\n",
    "\n",
    "One of the leading retail stores in the US, Walmart, would like to predict the sales and demand accurately. There are certain events and holidays which impact sales on each day. There are sales data available for 45 stores of Walmart. The business is facing a challenge due to unforeseen demands and runs out of stock some times, due to the inappropriate machine learning algorithm. An ideal ML algorithm will predict demand accurately and ingest factors like economic conditions including CPI, Unemployment Index, etc.\n",
    "\n",
    "Walmart runs several promotional markdown events throughout the year. These markdowns precede prominent holidays, the four largest of all, which are the Super Bowl, Labor Day, Thanksgiving, and Christmas. The weeks including these holidays are weighted five times higher in the evaluation than non-holiday weeks. Part of the challenge presented by this competition is modeling the effects of markdowns on these holiday weeks in the absence of complete/ideal historical data. Historical sales data for 45 Walmart stores located in different regions are available.\n",
    "\n",
    "### Dataset Description\n",
    "This is the historical data that covers sales from 2010–02–05 to 2012–11–01, in the file Walmart_Store_sales. Within this file you will find the following fields:\n",
    "\n",
    "* Store — the store number\n",
    "* Date — the week of sales\n",
    "* Weekly_Sales — sales for the given store\n",
    "* Holiday_Flag — whether the week is a special holiday week 1 — Holiday week 0 — Non-holiday week\n",
    "* Temperature — Temperature on the day of sale\n",
    "* Fuel_Price — Cost of fuel in the region\n",
    "* CPI — Prevailing consumer price index\n",
    "* Unemployment — Prevailing unemployment rate\n",
    "\n",
    "### Holiday Events\n",
    "* Super Bowl: 12-Feb-10, 11-Feb-11, 10-Feb-12, 8-Feb-13\n",
    "* Labor Day: 10-Sep-10, 9-Sep-11, 7-Sep-12, 6-Sep-13\n",
    "* Thanksgiving: 26-Nov-10, 25-Nov-11, 23-Nov-12, 29-Nov-13\n",
    "* Christmas: 31-Dec-10, 30-Dec-11, 28-Dec-12, 27-Dec-13\n",
    "\n",
    "\n",
    "[Download Dataset Here](https://drive.google.com/open?id=1alDWzg16PJmq_W33ySIv-RqpUjvTRU9U)\n",
    "\n",
    "### Analysis Tasks\n",
    "Basic Statistics tasks\n",
    "* Which store has maximum sales\n",
    "* Which store has maximum standard deviation i.e., the sales vary a lot. Also, find out co-efficient of variance\n",
    "* Which store/s has good quarterly growth rate in Q3’2012\n",
    "* Some holidays have a negative impact on sales. Find out holidays which have higher sales than the mean sales in non-holiday season for all stores together\n",
    "* Provide a monthly and semester view of sales in units and give insights"
   ]
  },
  {
   "cell_type": "code",
   "execution_count": 1,
   "id": "69edcee5",
   "metadata": {},
   "outputs": [],
   "source": [
    "# importing required packages\n",
    "import pandas as pd\n",
    "import numpy as np\n",
    "import seaborn as sns\n",
    "import matplotlib.pyplot as plt\n",
    "\n",
    "from datetime import date\n",
    "\n",
    "import warnings\n",
    "warnings.filterwarnings('ignore')"
   ]
  },
  {
   "cell_type": "code",
   "execution_count": 2,
   "id": "f792557d",
   "metadata": {},
   "outputs": [
    {
     "data": {
      "text/plain": [
       "(6435, 8)"
      ]
     },
     "execution_count": 2,
     "metadata": {},
     "output_type": "execute_result"
    }
   ],
   "source": [
    "df = pd.read_csv('Walmart_Store_sales.csv')\n",
    "df.shape"
   ]
  },
  {
   "cell_type": "code",
   "execution_count": 3,
   "id": "3bcaa09a",
   "metadata": {},
   "outputs": [
    {
     "data": {
      "text/html": [
       "<div>\n",
       "<style scoped>\n",
       "    .dataframe tbody tr th:only-of-type {\n",
       "        vertical-align: middle;\n",
       "    }\n",
       "\n",
       "    .dataframe tbody tr th {\n",
       "        vertical-align: top;\n",
       "    }\n",
       "\n",
       "    .dataframe thead th {\n",
       "        text-align: right;\n",
       "    }\n",
       "</style>\n",
       "<table border=\"1\" class=\"dataframe\">\n",
       "  <thead>\n",
       "    <tr style=\"text-align: right;\">\n",
       "      <th></th>\n",
       "      <th>Store</th>\n",
       "      <th>Date</th>\n",
       "      <th>Weekly_Sales</th>\n",
       "      <th>Holiday_Flag</th>\n",
       "      <th>Temperature</th>\n",
       "      <th>Fuel_Price</th>\n",
       "      <th>CPI</th>\n",
       "      <th>Unemployment</th>\n",
       "    </tr>\n",
       "  </thead>\n",
       "  <tbody>\n",
       "    <tr>\n",
       "      <th>0</th>\n",
       "      <td>1</td>\n",
       "      <td>05-02-2010</td>\n",
       "      <td>1643690.90</td>\n",
       "      <td>0</td>\n",
       "      <td>42.31</td>\n",
       "      <td>2.572</td>\n",
       "      <td>211.096358</td>\n",
       "      <td>8.106</td>\n",
       "    </tr>\n",
       "    <tr>\n",
       "      <th>1</th>\n",
       "      <td>1</td>\n",
       "      <td>12-02-2010</td>\n",
       "      <td>1641957.44</td>\n",
       "      <td>1</td>\n",
       "      <td>38.51</td>\n",
       "      <td>2.548</td>\n",
       "      <td>211.242170</td>\n",
       "      <td>8.106</td>\n",
       "    </tr>\n",
       "    <tr>\n",
       "      <th>2</th>\n",
       "      <td>1</td>\n",
       "      <td>19-02-2010</td>\n",
       "      <td>1611968.17</td>\n",
       "      <td>0</td>\n",
       "      <td>39.93</td>\n",
       "      <td>2.514</td>\n",
       "      <td>211.289143</td>\n",
       "      <td>8.106</td>\n",
       "    </tr>\n",
       "    <tr>\n",
       "      <th>3</th>\n",
       "      <td>1</td>\n",
       "      <td>26-02-2010</td>\n",
       "      <td>1409727.59</td>\n",
       "      <td>0</td>\n",
       "      <td>46.63</td>\n",
       "      <td>2.561</td>\n",
       "      <td>211.319643</td>\n",
       "      <td>8.106</td>\n",
       "    </tr>\n",
       "    <tr>\n",
       "      <th>4</th>\n",
       "      <td>1</td>\n",
       "      <td>05-03-2010</td>\n",
       "      <td>1554806.68</td>\n",
       "      <td>0</td>\n",
       "      <td>46.50</td>\n",
       "      <td>2.625</td>\n",
       "      <td>211.350143</td>\n",
       "      <td>8.106</td>\n",
       "    </tr>\n",
       "  </tbody>\n",
       "</table>\n",
       "</div>"
      ],
      "text/plain": [
       "   Store        Date  Weekly_Sales  Holiday_Flag  Temperature  Fuel_Price  \\\n",
       "0      1  05-02-2010    1643690.90             0        42.31       2.572   \n",
       "1      1  12-02-2010    1641957.44             1        38.51       2.548   \n",
       "2      1  19-02-2010    1611968.17             0        39.93       2.514   \n",
       "3      1  26-02-2010    1409727.59             0        46.63       2.561   \n",
       "4      1  05-03-2010    1554806.68             0        46.50       2.625   \n",
       "\n",
       "          CPI  Unemployment  \n",
       "0  211.096358         8.106  \n",
       "1  211.242170         8.106  \n",
       "2  211.289143         8.106  \n",
       "3  211.319643         8.106  \n",
       "4  211.350143         8.106  "
      ]
     },
     "execution_count": 3,
     "metadata": {},
     "output_type": "execute_result"
    }
   ],
   "source": [
    "df.head()"
   ]
  },
  {
   "cell_type": "code",
   "execution_count": 4,
   "id": "1991a29d",
   "metadata": {},
   "outputs": [
    {
     "name": "stdout",
     "output_type": "stream",
     "text": [
      "<class 'pandas.core.frame.DataFrame'>\n",
      "RangeIndex: 6435 entries, 0 to 6434\n",
      "Data columns (total 8 columns):\n",
      " #   Column        Non-Null Count  Dtype  \n",
      "---  ------        --------------  -----  \n",
      " 0   Store         6435 non-null   int64  \n",
      " 1   Date          6435 non-null   object \n",
      " 2   Weekly_Sales  6435 non-null   float64\n",
      " 3   Holiday_Flag  6435 non-null   int64  \n",
      " 4   Temperature   6435 non-null   float64\n",
      " 5   Fuel_Price    6435 non-null   float64\n",
      " 6   CPI           6435 non-null   float64\n",
      " 7   Unemployment  6435 non-null   float64\n",
      "dtypes: float64(5), int64(2), object(1)\n",
      "memory usage: 402.3+ KB\n"
     ]
    }
   ],
   "source": [
    "df.info()"
   ]
  },
  {
   "cell_type": "code",
   "execution_count": 5,
   "id": "88dc1e40",
   "metadata": {},
   "outputs": [
    {
     "data": {
      "text/plain": [
       "Store                   45\n",
       "Date            31-12-2010\n",
       "Weekly_Sales    3818686.45\n",
       "Holiday_Flag             1\n",
       "Temperature         100.14\n",
       "Fuel_Price           4.468\n",
       "CPI             227.232807\n",
       "Unemployment        14.313\n",
       "dtype: object"
      ]
     },
     "execution_count": 5,
     "metadata": {},
     "output_type": "execute_result"
    }
   ],
   "source": [
    "df.max()"
   ]
  },
  {
   "cell_type": "markdown",
   "id": "caea28d2",
   "metadata": {},
   "source": [
    "#### Question 1: Which store has maximum sales?"
   ]
  },
  {
   "cell_type": "code",
   "execution_count": 6,
   "id": "a4a3bec4",
   "metadata": {},
   "outputs": [
    {
     "data": {
      "text/html": [
       "<div>\n",
       "<style scoped>\n",
       "    .dataframe tbody tr th:only-of-type {\n",
       "        vertical-align: middle;\n",
       "    }\n",
       "\n",
       "    .dataframe tbody tr th {\n",
       "        vertical-align: top;\n",
       "    }\n",
       "\n",
       "    .dataframe thead th {\n",
       "        text-align: right;\n",
       "    }\n",
       "</style>\n",
       "<table border=\"1\" class=\"dataframe\">\n",
       "  <thead>\n",
       "    <tr style=\"text-align: right;\">\n",
       "      <th></th>\n",
       "      <th>Store</th>\n",
       "      <th>Date</th>\n",
       "      <th>Weekly_Sales</th>\n",
       "      <th>Holiday_Flag</th>\n",
       "      <th>Temperature</th>\n",
       "      <th>Fuel_Price</th>\n",
       "      <th>CPI</th>\n",
       "      <th>Unemployment</th>\n",
       "    </tr>\n",
       "  </thead>\n",
       "  <tbody>\n",
       "    <tr>\n",
       "      <th>1905</th>\n",
       "      <td>14</td>\n",
       "      <td>24-12-2010</td>\n",
       "      <td>3818686.45</td>\n",
       "      <td>0</td>\n",
       "      <td>30.59</td>\n",
       "      <td>3.141</td>\n",
       "      <td>182.54459</td>\n",
       "      <td>8.724</td>\n",
       "    </tr>\n",
       "  </tbody>\n",
       "</table>\n",
       "</div>"
      ],
      "text/plain": [
       "      Store        Date  Weekly_Sales  Holiday_Flag  Temperature  Fuel_Price  \\\n",
       "1905     14  24-12-2010    3818686.45             0        30.59       3.141   \n",
       "\n",
       "            CPI  Unemployment  \n",
       "1905  182.54459         8.724  "
      ]
     },
     "execution_count": 6,
     "metadata": {},
     "output_type": "execute_result"
    }
   ],
   "source": [
    "df.loc[df['Weekly_Sales'] == df['Weekly_Sales'].max()]"
   ]
  },
  {
   "cell_type": "markdown",
   "id": "7ece71c1",
   "metadata": {},
   "source": [
    "From this we see that Store 14 has the maximum weekly sales."
   ]
  },
  {
   "cell_type": "markdown",
   "id": "1ab477ae",
   "metadata": {},
   "source": [
    "#### Question 2: Which store has maximum standard deviation i.e., the sales vary a lot. Also, find out the coefficient of variance (CoV)?\n",
    "\n",
    "In simple terms CoV is ratio of standard deviation to the mean."
   ]
  },
  {
   "cell_type": "code",
   "execution_count": 7,
   "id": "e8316924",
   "metadata": {},
   "outputs": [
    {
     "data": {
      "text/html": [
       "<div>\n",
       "<style scoped>\n",
       "    .dataframe tbody tr th:only-of-type {\n",
       "        vertical-align: middle;\n",
       "    }\n",
       "\n",
       "    .dataframe tbody tr th {\n",
       "        vertical-align: top;\n",
       "    }\n",
       "\n",
       "    .dataframe thead tr th {\n",
       "        text-align: left;\n",
       "    }\n",
       "</style>\n",
       "<table border=\"1\" class=\"dataframe\">\n",
       "  <thead>\n",
       "    <tr>\n",
       "      <th></th>\n",
       "      <th>Store</th>\n",
       "      <th colspan=\"2\" halign=\"left\">Weekly_Sales</th>\n",
       "      <th>CoV</th>\n",
       "    </tr>\n",
       "    <tr>\n",
       "      <th></th>\n",
       "      <th></th>\n",
       "      <th>std</th>\n",
       "      <th>mean</th>\n",
       "      <th></th>\n",
       "    </tr>\n",
       "  </thead>\n",
       "  <tbody>\n",
       "    <tr>\n",
       "      <th>13</th>\n",
       "      <td>14</td>\n",
       "      <td>317569.949476</td>\n",
       "      <td>2.020978e+06</td>\n",
       "      <td>15.713674</td>\n",
       "    </tr>\n",
       "  </tbody>\n",
       "</table>\n",
       "</div>"
      ],
      "text/plain": [
       "   Store   Weekly_Sales                      CoV\n",
       "                    std          mean           \n",
       "13    14  317569.949476  2.020978e+06  15.713674"
      ]
     },
     "execution_count": 7,
     "metadata": {},
     "output_type": "execute_result"
    }
   ],
   "source": [
    "# here i am grouping by store and finding the standard deviation and mean of each store.\n",
    "maxstd = pd.DataFrame(df.groupby('Store').agg({'Weekly_Sales':['std','mean']}))\n",
    "\n",
    "# just resetting the index.\n",
    "maxstd = maxstd.reset_index()\n",
    "\n",
    "# now we know that CoV is std/ mean we are doing this for each store.\n",
    "maxstd['CoV'] = (maxstd[('Weekly_Sales','std')]/maxstd[('Weekly_Sales','mean')]) *100\n",
    "\n",
    "# finding the store with maximum standard deviation.\n",
    "maxstd.loc[maxstd[('Weekly_Sales','std')]==maxstd[('Weekly_Sales','std')].max()]"
   ]
  },
  {
   "cell_type": "markdown",
   "id": "5bce7d9c",
   "metadata": {},
   "source": [
    "From this we can conclude that sales in store 14 vary a lot."
   ]
  },
  {
   "cell_type": "markdown",
   "id": "e2ed7113",
   "metadata": {},
   "source": [
    "#### Question 3: Which store/s has good quarterly growth rate in Q3’2012?"
   ]
  },
  {
   "cell_type": "code",
   "execution_count": 8,
   "id": "94eaa5f1",
   "metadata": {
    "scrolled": false
   },
   "outputs": [],
   "source": [
    "# converting the data type of date column to dateTime \n",
    "df['Date'] = pd.to_datetime(df['Date'])\n",
    "\n",
    "# defining the start and end date of Q3 and Q2\n",
    "Q3_date_from = pd.Timestamp(date(2012,7,1))\n",
    "Q3_date_to = pd.Timestamp(date(2012,9,30))\n",
    "Q2_date_from = pd.Timestamp(date(2012,4,1))\n",
    "Q2_date_to = pd.Timestamp(date(2012,6,30))\n",
    "\n",
    "# collecting the data of Q3 and Q2 from original dataset.\n",
    "Q2data = df[(df['Date'] > Q2_date_from) & (df['Date'] < Q2_date_to)]\n",
    "Q3data = df[(df['Date'] > Q3_date_from) & (df['Date'] < Q3_date_to)]\n",
    "\n",
    "# finding the sum weekly sales of each store in Q2\n",
    "Q2 = pd.DataFrame(Q2data.groupby('Store')['Weekly_Sales'].sum())\n",
    "Q2.reset_index(inplace=True)\n",
    "Q2.rename(columns={'Weekly_Sales': 'Q2_Weekly_Sales'},inplace=True)\n",
    "\n",
    "# finding the sum weekly sales of each store in Q2\n",
    "Q3 = pd.DataFrame(Q3data.groupby('Store')['Weekly_Sales'].sum())\n",
    "Q3.reset_index(inplace=True)\n",
    "Q3.rename(columns={'Weekly_Sales': 'Q3_Weekly_Sales'},inplace=True)\n",
    "\n",
    "# mergeing Q2 and Q3 data on Store as a common column\n",
    "Q3_Growth = Q2.merge(Q3,how='inner',on='Store')"
   ]
  },
  {
   "cell_type": "code",
   "execution_count": 9,
   "id": "8e6835de",
   "metadata": {},
   "outputs": [
    {
     "data": {
      "text/html": [
       "<div>\n",
       "<style scoped>\n",
       "    .dataframe tbody tr th:only-of-type {\n",
       "        vertical-align: middle;\n",
       "    }\n",
       "\n",
       "    .dataframe tbody tr th {\n",
       "        vertical-align: top;\n",
       "    }\n",
       "\n",
       "    .dataframe thead th {\n",
       "        text-align: right;\n",
       "    }\n",
       "</style>\n",
       "<table border=\"1\" class=\"dataframe\">\n",
       "  <thead>\n",
       "    <tr style=\"text-align: right;\">\n",
       "      <th></th>\n",
       "      <th>Store</th>\n",
       "      <th>Q2_Weekly_Sales</th>\n",
       "      <th>Q3_Weekly_Sales</th>\n",
       "      <th>Growth_Rate</th>\n",
       "    </tr>\n",
       "  </thead>\n",
       "  <tbody>\n",
       "    <tr>\n",
       "      <th>15</th>\n",
       "      <td>16</td>\n",
       "      <td>6626133.44</td>\n",
       "      <td>6441311.11</td>\n",
       "      <td>-0.03</td>\n",
       "    </tr>\n",
       "  </tbody>\n",
       "</table>\n",
       "</div>"
      ],
      "text/plain": [
       "    Store  Q2_Weekly_Sales  Q3_Weekly_Sales  Growth_Rate\n",
       "15     16       6626133.44       6441311.11        -0.03"
      ]
     },
     "execution_count": 9,
     "metadata": {},
     "output_type": "execute_result"
    }
   ],
   "source": [
    "# calculating Growth rate of each Store and collecting it into a dataframe  \n",
    "Q3_Growth['Growth_Rate'] = (Q3_Growth['Q3_Weekly_Sales'] - Q3_Growth['Q2_Weekly_Sales'])/Q3_Growth['Q2_Weekly_Sales']\n",
    "Q3_Growth['Growth_Rate'] = round(Q3_Growth['Growth_Rate'],2)\n",
    "Q3_Growth.sort_values('Growth_Rate',ascending=False).head(1)"
   ]
  },
  {
   "cell_type": "code",
   "execution_count": 10,
   "id": "cbba1d61",
   "metadata": {},
   "outputs": [
    {
     "data": {
      "text/html": [
       "<div>\n",
       "<style scoped>\n",
       "    .dataframe tbody tr th:only-of-type {\n",
       "        vertical-align: middle;\n",
       "    }\n",
       "\n",
       "    .dataframe tbody tr th {\n",
       "        vertical-align: top;\n",
       "    }\n",
       "\n",
       "    .dataframe thead th {\n",
       "        text-align: right;\n",
       "    }\n",
       "</style>\n",
       "<table border=\"1\" class=\"dataframe\">\n",
       "  <thead>\n",
       "    <tr style=\"text-align: right;\">\n",
       "      <th></th>\n",
       "      <th>Store</th>\n",
       "      <th>Q2_Weekly_Sales</th>\n",
       "      <th>Q3_Weekly_Sales</th>\n",
       "      <th>Growth_Rate</th>\n",
       "    </tr>\n",
       "  </thead>\n",
       "  <tbody>\n",
       "    <tr>\n",
       "      <th>13</th>\n",
       "      <td>14</td>\n",
       "      <td>24427769.06</td>\n",
       "      <td>20140430.4</td>\n",
       "      <td>-0.18</td>\n",
       "    </tr>\n",
       "  </tbody>\n",
       "</table>\n",
       "</div>"
      ],
      "text/plain": [
       "    Store  Q2_Weekly_Sales  Q3_Weekly_Sales  Growth_Rate\n",
       "13     14      24427769.06       20140430.4        -0.18"
      ]
     },
     "execution_count": 10,
     "metadata": {},
     "output_type": "execute_result"
    }
   ],
   "source": [
    "Q3_Growth.sort_values('Growth_Rate', ascending=False).tail(1)"
   ]
  },
  {
   "cell_type": "markdown",
   "id": "b0a6ef97",
   "metadata": {},
   "source": [
    "From above tables we can infer that Q3 growth rate is in losses.\n",
    "\n",
    "The Store 16 has the least loss of 3% compared the other stores and store 14 has highest loss of 18%."
   ]
  },
  {
   "cell_type": "markdown",
   "id": "efc82235",
   "metadata": {},
   "source": [
    "#### Question 4: Some holidays have a negative impact on sales. Find out holidays which have higher sales than the mean sales in non-holiday season for all stores together."
   ]
  },
  {
   "cell_type": "code",
   "execution_count": 11,
   "id": "793e3b09",
   "metadata": {},
   "outputs": [
    {
     "data": {
      "text/plain": [
       "Holiday_Flag\n",
       "0    1.041256e+06\n",
       "1    1.122888e+06\n",
       "Name: Weekly_Sales, dtype: float64"
      ]
     },
     "execution_count": 11,
     "metadata": {},
     "output_type": "execute_result"
    }
   ],
   "source": [
    "# finding the mean sales of non holiday and holiday \n",
    "df.groupby('Holiday_Flag')['Weekly_Sales'].mean()"
   ]
  },
  {
   "cell_type": "code",
   "execution_count": 12,
   "id": "a95b4afb",
   "metadata": {},
   "outputs": [
    {
     "data": {
      "text/plain": [
       "{'Christmas_mean_sales': 960833.11,\n",
       " 'Thanksgiving_mean_sales': 1471273.43,\n",
       " 'LabourDay_mean_sales': 1008369.41,\n",
       " 'SuperBowl_mean_sales': nan,\n",
       " 'Non holiday weekly sales': 1041256.3802088564}"
      ]
     },
     "execution_count": 12,
     "metadata": {},
     "output_type": "execute_result"
    }
   ],
   "source": [
    "# marking the holiday dates \n",
    "Christmas1 = pd.Timestamp(date(2010,12,31) )\n",
    "Christmas2 = pd.Timestamp(date(2011,12,30) )\n",
    "Christmas3 = pd.Timestamp(date(2012,12,28) )\n",
    "Christmas4 = pd.Timestamp(date(2013,12,27) )\n",
    "\n",
    "Thanksgiving1=pd.Timestamp(date(2010,11,26) )\n",
    "Thanksgiving2=pd.Timestamp(date(2011,11,25) )\n",
    "Thanksgiving3=pd.Timestamp(date(2012,11,23) )\n",
    "Thanksgiving4=pd.Timestamp(date(2013,11,29) )\n",
    "\n",
    "LabourDay1=pd.Timestamp(date(2010,2,10) )\n",
    "LabourDay2=pd.Timestamp(date(2011,2,9) )\n",
    "LabourDay3=pd.Timestamp(date(2012,2,7) )\n",
    "LabourDay4=pd.Timestamp(date(2013,2,6) )\n",
    "\n",
    "SuperBowl1=pd.Timestamp(date(2010,9,12) )\n",
    "SuperBowl2=pd.Timestamp(date(2011,9,11) )\n",
    "SuperBowl3=pd.Timestamp(date(2012,9,10) )\n",
    "SuperBowl4=pd.Timestamp(date(2013,9,8) )\n",
    "\n",
    "# calculating the mean sales during the holidays\n",
    "Christmas_mean_sales=df[(df['Date'] == Christmas1) | (df['Date'] == Christmas2) | (df['Date'] == Christmas3) | (df['Date'] == Christmas4)]\n",
    "Thanksgiving_mean_sales=df[(df['Date'] == Thanksgiving1) | (df['Date'] == Thanksgiving2) | (df['Date'] == Thanksgiving3) | (df['Date'] == Thanksgiving4)]\n",
    "LabourDay_mean_sales=df[(df['Date'] == LabourDay1) | (df['Date'] == LabourDay2) | (df['Date'] == LabourDay3) | (df['Date'] == LabourDay4)]\n",
    "SuperBowl_mean_sales=df[(df['Date'] == SuperBowl1) | (df['Date'] == SuperBowl2) | (df['Date'] == SuperBowl3) | (df['Date'] == SuperBowl4)]\n",
    "\n",
    "#\n",
    "list_of_mean_sales = {'Christmas_mean_sales' : round(Christmas_mean_sales['Weekly_Sales'].mean(),2),\n",
    "'Thanksgiving_mean_sales': round(Thanksgiving_mean_sales['Weekly_Sales'].mean(),2),\n",
    "'LabourDay_mean_sales' : round(LabourDay_mean_sales['Weekly_Sales'].mean(),2),\n",
    "'SuperBowl_mean_sales':round(SuperBowl_mean_sales['Weekly_Sales'].mean(),2),\n",
    "'Non holiday weekly sales' : df[df['Holiday_Flag'] == 0 ]['Weekly_Sales'].mean()}\n",
    "list_of_mean_sales"
   ]
  },
  {
   "cell_type": "markdown",
   "id": "2d501c8d",
   "metadata": {},
   "source": [
    "From this we can infer that the mean sales of thanks giving is more than the non holiday weekly sales."
   ]
  },
  {
   "cell_type": "markdown",
   "id": "4554a07b",
   "metadata": {},
   "source": [
    "#### Question 5: Provide a Monthly,Quaterly and Semester view of sales in units and give insights."
   ]
  },
  {
   "cell_type": "code",
   "execution_count": 13,
   "id": "2ebf0fe0",
   "metadata": {},
   "outputs": [
    {
     "data": {
      "image/png": "[encoded data removed]",
      "text/plain": [
       "<Figure size 720x576 with 1 Axes>"
      ]
     },
     "metadata": {
      "needs_background": "light"
     },
     "output_type": "display_data"
    },
    {
     "data": {
      "image/png": "[encoded data removed]",
      "text/plain": [
       "<Figure size 720x576 with 1 Axes>"
      ]
     },
     "metadata": {
      "needs_background": "light"
     },
     "output_type": "display_data"
    },
    {
     "data": {
      "image/png": "[encoded data removed]",
      "text/plain": [
       "<Figure size 720x576 with 1 Axes>"
      ]
     },
     "metadata": {
      "needs_background": "light"
     },
     "output_type": "display_data"
    }
   ],
   "source": [
    "# monthly sales \n",
    "monthly = df.groupby(pd.Grouper(key='Date', freq='1M')).sum()# groupby each 1 month\n",
    "monthly=monthly.reset_index()\n",
    "fig, ax = plt.subplots(figsize=(10,8))\n",
    "X = monthly['Date']\n",
    "Y = monthly['Weekly_Sales']\n",
    "plt.plot(X,Y)\n",
    "plt.title('Month Wise Sales')\n",
    "plt.xlabel('Monthly')\n",
    "plt.ylabel('Weekly_Sales')\n",
    "\n",
    "# quaterly sales \n",
    "Quaterly = df.groupby(pd.Grouper(key='Date', freq='3M')).sum()\n",
    "Quaterly = Quaterly.reset_index()\n",
    "fig, ax = plt.subplots(figsize=(10,8))\n",
    "X = Quaterly['Date']\n",
    "Y = Quaterly['Weekly_Sales']\n",
    "plt.plot(X,Y)\n",
    "plt.title('Quaterly Wise Sales')\n",
    "plt.xlabel('Quaterly')\n",
    "plt.ylabel('Weekly_Sales')\n",
    "\n",
    "# semester sales \n",
    "Semester = df.groupby(pd.Grouper(key='Date', freq='6M')).sum()\n",
    "Semester = Semester.reset_index()\n",
    "fig, ax = plt.subplots(figsize=(10,8))\n",
    "X = Semester['Date']\n",
    "Y = Semester['Weekly_Sales']\n",
    "plt.plot(X,Y)\n",
    "plt.title('Semester Wise Sales')\n",
    "plt.xlabel('Semester')\n",
    "plt.ylabel('Weekly_Sales')\n",
    "\n",
    "plt.show()"
   ]
  }
 ],
 "metadata": {
  "kernelspec": {
   "display_name": "Python 3 (ipykernel)",
   "language": "python",
   "name": "python3"
  },
  "language_info": {
   "codemirror_mode": {
    "name": "ipython",
    "version": 3
   },
   "file_extension": ".py",
   "mimetype": "text/x-python",
   "name": "python",
   "nbconvert_exporter": "python",
   "pygments_lexer": "ipython3",
   "version": "3.9.12"
  }
 },
 "nbformat": 4,
 "nbformat_minor": 5
}
